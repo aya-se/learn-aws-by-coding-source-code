{
 "cells": [
  {
   "cell_type": "code",
   "execution_count": 1,
   "id": "e36a6b22",
   "metadata": {},
   "outputs": [],
   "source": [
    "import boto3\n",
    "from pprint import pprint\n",
    "from datetime import datetime"
   ]
  },
  {
   "cell_type": "code",
   "execution_count": 2,
   "id": "fc0d03c6",
   "metadata": {},
   "outputs": [],
   "source": [
    "session = boto3.Session(profile_name=\"default\")\n",
    "ddb = session.resource(\"dynamodb\")"
   ]
  },
  {
   "cell_type": "code",
   "execution_count": 3,
   "id": "2261d88d",
   "metadata": {},
   "outputs": [],
   "source": [
    "# Let's define table name\n",
    "# REPLACE THE VALUE WITH YOUR OWN TABLE NAME!\n",
    "table_name = \"Cov19VaccinationDb-Cov19VaccinationTable07030B40-13FJE38K7H2H0\"\n",
    "table = ddb.Table(table_name)"
   ]
  },
  {
   "cell_type": "markdown",
   "id": "a05e5df9",
   "metadata": {},
   "source": [
    "## LEVEL 1: Basic Read and Write"
   ]
  },
  {
   "cell_type": "code",
   "execution_count": 4,
   "id": "bf51bbba",
   "metadata": {},
   "outputs": [],
   "source": [
    "# Put a sample data\n",
    "resp = table.put_item(\n",
    "    Item={\n",
    "        \"username\": \"sazae_huguta\",\n",
    "        \"first_name\": \"Sazae\",\n",
    "        \"last_name\": \"Huguta\",\n",
    "        \"age\": 24,\n",
    "        \"prefecture\": \"Tokyo\",\n",
    "        \"dose\": 1,\n",
    "        \"status\": \"reserved\",\n",
    "        \"date\": datetime(2021,7,20,hour=10,minute=0).isoformat(timespec=\"seconds\"),\n",
    "    }\n",
    ")"
   ]
  },
  {
   "cell_type": "code",
   "execution_count": 5,
   "id": "ce2010d0",
   "metadata": {},
   "outputs": [
    {
     "name": "stdout",
     "output_type": "stream",
     "text": [
      "{'age': Decimal('24'),\n",
      " 'date': '2021-07-20T10:00:00',\n",
      " 'dose': Decimal('1'),\n",
      " 'first_name': 'Sazae',\n",
      " 'last_name': 'Huguta',\n",
      " 'prefecture': 'Tokyo',\n",
      " 'status': 'reserved',\n",
      " 'username': 'sazae_huguta'}\n"
     ]
    }
   ],
   "source": [
    "# Get an item by id\n",
    "resp = table.get_item(\n",
    "    Key={\"username\": \"sazae_huguta\", \"dose\": 1}\n",
    ")\n",
    "pprint(resp[\"Item\"])"
   ]
  },
  {
   "cell_type": "code",
   "execution_count": 6,
   "id": "bb4db5cc",
   "metadata": {},
   "outputs": [],
   "source": [
    "# Update an item by id\n",
    "resp = table.update_item(\n",
    "    Key={\"username\": \"sazae_huguta\", \"dose\": 1},\n",
    "    UpdateExpression=\"SET prefecture = :val1\",\n",
    "    ExpressionAttributeValues={\n",
    "        \":val1\": \"Aomori\",\n",
    "    }\n",
    ")"
   ]
  },
  {
   "cell_type": "code",
   "execution_count": 7,
   "id": "7265d8d4",
   "metadata": {},
   "outputs": [
    {
     "name": "stdout",
     "output_type": "stream",
     "text": [
      "'Aomori'\n"
     ]
    }
   ],
   "source": [
    "# Check that the item was updated\n",
    "resp = table.get_item(\n",
    "    Key={\"username\": \"sazae_huguta\", \"dose\": 1}\n",
    ")\n",
    "pprint(resp[\"Item\"][\"prefecture\"])"
   ]
  },
  {
   "cell_type": "code",
   "execution_count": 8,
   "id": "2ce006fa",
   "metadata": {},
   "outputs": [],
   "source": [
    "# Update an item by id\n",
    "resp = table.update_item(\n",
    "    Key={\"username\": \"sazae_huguta\", \"dose\": 1},\n",
    "    UpdateExpression=\"SET #at1 = :val1\",\n",
    "    ExpressionAttributeNames={\n",
    "        '#at1': 'status'\n",
    "    },\n",
    "    ExpressionAttributeValues={\n",
    "        \":val1\": \"completed\",\n",
    "    }\n",
    ")"
   ]
  },
  {
   "cell_type": "code",
   "execution_count": 9,
   "id": "ce055d23",
   "metadata": {},
   "outputs": [
    {
     "name": "stdout",
     "output_type": "stream",
     "text": [
      "'completed'\n"
     ]
    }
   ],
   "source": [
    "# Check that the item was updated\n",
    "resp = table.get_item(\n",
    "    Key={\"username\": \"sazae_huguta\", \"dose\": 1}\n",
    ")\n",
    "pprint(resp[\"Item\"][\"status\"])"
   ]
  },
  {
   "cell_type": "code",
   "execution_count": 10,
   "id": "b6f5e647",
   "metadata": {},
   "outputs": [],
   "source": [
    "# Delete an item\n",
    "resp = table.delete_item(\n",
    "    Key={\"username\": \"sazae_huguta\", \"dose\": 1},\n",
    ")"
   ]
  },
  {
   "cell_type": "code",
   "execution_count": 13,
   "id": "cb313e47",
   "metadata": {},
   "outputs": [
    {
     "name": "stdout",
     "output_type": "stream",
     "text": [
      "The item with the given ID was not found!\n"
     ]
    }
   ],
   "source": [
    "# Check that the item was updated\n",
    "resp = table.get_item(\n",
    "    Key={\"username\": \"sazae_huguta\", \"dose\": 1},\n",
    ")\n",
    "if resp.get(\"Item\"):\n",
    "    print(resp.get(\"Item\"))\n",
    "else:\n",
    "    print(\"The item with the given ID was not found!\")"
   ]
  },
  {
   "cell_type": "markdown",
   "id": "0095b179",
   "metadata": {},
   "source": [
    "## LEVEL 2: Query and Scan"
   ]
  },
  {
   "cell_type": "code",
   "execution_count": 14,
   "id": "e7efdaf8",
   "metadata": {},
   "outputs": [],
   "source": [
    "import json"
   ]
  },
  {
   "cell_type": "code",
   "execution_count": 15,
   "id": "c8bb2bd9",
   "metadata": {},
   "outputs": [],
   "source": [
    "with open(\"data.json\", \"r\") as f:\n",
    "    data = json.load(f)"
   ]
  },
  {
   "cell_type": "code",
   "execution_count": 16,
   "id": "2ff2958b",
   "metadata": {},
   "outputs": [],
   "source": [
    "# Batch-write data\n",
    "with table.batch_writer() as batch:\n",
    "    for d in data:\n",
    "        batch.put_item(Item=d)"
   ]
  },
  {
   "cell_type": "code",
   "execution_count": 17,
   "id": "c16010f6",
   "metadata": {},
   "outputs": [],
   "source": [
    "from boto3.dynamodb.conditions import Key, Attr"
   ]
  },
  {
   "cell_type": "code",
   "execution_count": 18,
   "id": "6a3add55",
   "metadata": {
    "scrolled": true
   },
   "outputs": [
    {
     "name": "stdout",
     "output_type": "stream",
     "text": [
      "[{'age': Decimal('54'),\n",
      "  'date': '2021-07-25T10:00:00',\n",
      "  'dose': Decimal('1'),\n",
      "  'first_name': 'Namihei',\n",
      "  'last_name': 'Isono',\n",
      "  'prefecture': 'Chiba',\n",
      "  'status': 'completed',\n",
      "  'username': 'namihei_isono'},\n",
      " {'age': Decimal('54'),\n",
      "  'date': '2021-08-20T10:00:00',\n",
      "  'dose': Decimal('2'),\n",
      "  'first_name': 'Namihei',\n",
      "  'last_name': 'Isono',\n",
      "  'prefecture': 'Chiba',\n",
      "  'status': 'completed',\n",
      "  'username': 'namihei_isono'}]\n"
     ]
    }
   ],
   "source": [
    "# query by name\n",
    "resp = table.query(\n",
    "    KeyConditionExpression=Key('username').eq('namihei_isono')\n",
    ")\n",
    "pprint(resp.get(\"Items\"))"
   ]
  },
  {
   "cell_type": "code",
   "execution_count": 19,
   "id": "1a5a6767",
   "metadata": {},
   "outputs": [
    {
     "name": "stdout",
     "output_type": "stream",
     "text": [
      "[{'age': Decimal('54'),\n",
      "  'date': '2021-07-25T10:00:00',\n",
      "  'dose': Decimal('1'),\n",
      "  'first_name': 'Namihei',\n",
      "  'last_name': 'Isono',\n",
      "  'prefecture': 'Chiba',\n",
      "  'status': 'completed',\n",
      "  'username': 'namihei_isono'}]\n"
     ]
    }
   ],
   "source": [
    "# query by name and dose\n",
    "resp = table.query(\n",
    "    KeyConditionExpression=Key(\"username\").eq(\"namihei_isono\") & Key('dose').eq(1)\n",
    ")\n",
    "pprint(resp.get(\"Items\"))"
   ]
  },
  {
   "cell_type": "code",
   "execution_count": 20,
   "id": "2aeeb01b",
   "metadata": {
    "scrolled": true
   },
   "outputs": [
    {
     "name": "stdout",
     "output_type": "stream",
     "text": [
      "[{'age': Decimal('11'),\n",
      "  'date': '2021-07-20T10:00:00',\n",
      "  'dose': Decimal('1'),\n",
      "  'first_name': 'Katsuo',\n",
      "  'last_name': 'Isono',\n",
      "  'prefecture': 'Gunma',\n",
      "  'status': 'reserved',\n",
      "  'username': 'katsuo_isono'}]\n"
     ]
    }
   ],
   "source": [
    "# query by age\n",
    "resp = table.query(\n",
    "    IndexName=\"ItemsByAge\",\n",
    "    KeyConditionExpression=Key('age').eq(11),\n",
    ")\n",
    "pprint(resp.get(\"Items\"))"
   ]
  },
  {
   "cell_type": "code",
   "execution_count": 21,
   "id": "5a371633",
   "metadata": {
    "scrolled": true
   },
   "outputs": [
    {
     "name": "stdout",
     "output_type": "stream",
     "text": [
      "[{'age': Decimal('3'),\n",
      "  'date': '2021-07-20T10:00:00',\n",
      "  'dose': Decimal('1'),\n",
      "  'first_name': 'Tarao',\n",
      "  'last_name': 'Huguta',\n",
      "  'prefecture': 'Tokyo',\n",
      "  'status': 'reserved',\n",
      "  'username': 'tarao_huguta'},\n",
      " {'age': Decimal('28'),\n",
      "  'date': '2021-07-20T10:00:00',\n",
      "  'dose': Decimal('1'),\n",
      "  'first_name': 'Huguta',\n",
      "  'last_name': 'Masuo',\n",
      "  'prefecture': 'Tokyo',\n",
      "  'status': 'reserved',\n",
      "  'username': 'masuo_huguta'}]\n"
     ]
    }
   ],
   "source": [
    "# query by prefecture\n",
    "resp = table.query(\n",
    "    IndexName=\"ItemsByPrefecture\",\n",
    "    KeyConditionExpression=Key('prefecture').eq(\"Tokyo\"),\n",
    ")\n",
    "pprint(resp.get(\"Items\"))"
   ]
  },
  {
   "cell_type": "code",
   "execution_count": 22,
   "id": "ef3da079",
   "metadata": {
    "scrolled": true
   },
   "outputs": [
    {
     "name": "stdout",
     "output_type": "stream",
     "text": [
      "Number of items: 8\n"
     ]
    }
   ],
   "source": [
    "# Scan - simple\n",
    "resp = table.scan()\n",
    "items = resp.get(\"Items\")\n",
    "print(\"Number of items:\", len(items))"
   ]
  },
  {
   "cell_type": "code",
   "execution_count": 23,
   "id": "a751361d",
   "metadata": {
    "scrolled": true
   },
   "outputs": [
    {
     "name": "stdout",
     "output_type": "stream",
     "text": [
      "Number of items 8\n"
     ]
    }
   ],
   "source": [
    "# scan - all data\n",
    "resp = table.scan()\n",
    "items = resp.get(\"Items\")\n",
    "# query all items!\n",
    "while resp.get(\"LastEvaluatedKey\"):\n",
    "    resp = table.scan(ExclusiveStartKey=r[\"LastEvaluatedKey\"])\n",
    "    items.extend(resp[\"Items\"])\n",
    "print(\"Number of items\", len(items))"
   ]
  },
  {
   "cell_type": "code",
   "execution_count": 24,
   "id": "ac06e96a",
   "metadata": {},
   "outputs": [
    {
     "name": "stdout",
     "output_type": "stream",
     "text": [
      "[{'age': Decimal('9'),\n",
      "  'date': '2021-07-20T10:00:00',\n",
      "  'dose': Decimal('1'),\n",
      "  'first_name': 'Wakame',\n",
      "  'last_name': 'Isono',\n",
      "  'prefecture': 'Saitama',\n",
      "  'status': 'reserved',\n",
      "  'username': 'wakame_isono'},\n",
      " {'age': Decimal('3'),\n",
      "  'date': '2021-07-20T10:00:00',\n",
      "  'dose': Decimal('1'),\n",
      "  'first_name': 'Tarao',\n",
      "  'last_name': 'Huguta',\n",
      "  'prefecture': 'Tokyo',\n",
      "  'status': 'reserved',\n",
      "  'username': 'tarao_huguta'},\n",
      " {'age': Decimal('11'),\n",
      "  'date': '2021-07-20T10:00:00',\n",
      "  'dose': Decimal('1'),\n",
      "  'first_name': 'Katsuo',\n",
      "  'last_name': 'Isono',\n",
      "  'prefecture': 'Gunma',\n",
      "  'status': 'reserved',\n",
      "  'username': 'katsuo_isono'}]\n"
     ]
    }
   ],
   "source": [
    "# scan with filtering\n",
    "resp = table.scan(\n",
    "    FilterExpression=Attr('age').lt(27)\n",
    ")\n",
    "pprint(resp.get(\"Items\"))"
   ]
  },
  {
   "cell_type": "code",
   "execution_count": 25,
   "id": "44e668d8",
   "metadata": {
    "scrolled": true
   },
   "outputs": [
    {
     "name": "stdout",
     "output_type": "stream",
     "text": [
      "[{'age': Decimal('54'),\n",
      "  'date': '2021-07-25T10:00:00',\n",
      "  'dose': Decimal('1'),\n",
      "  'first_name': 'Namihei',\n",
      "  'last_name': 'Isono',\n",
      "  'prefecture': 'Chiba',\n",
      "  'status': 'completed',\n",
      "  'username': 'namihei_isono'}]\n"
     ]
    }
   ],
   "source": [
    "# scan by date\n",
    "resp = table.scan(\n",
    "    FilterExpression=Attr('date').begins_with(\"2021-07-25\"),\n",
    ")\n",
    "pprint(resp.get(\"Items\"))"
   ]
  },
  {
   "cell_type": "code",
   "execution_count": 26,
   "id": "c9ddcda7",
   "metadata": {},
   "outputs": [
    {
     "name": "stdout",
     "output_type": "stream",
     "text": [
      "[{'first_name': 'Wakame', 'prefecture': 'Saitama'},\n",
      " {'first_name': 'Namihei', 'prefecture': 'Chiba'},\n",
      " {'first_name': 'Namihei', 'prefecture': 'Chiba'},\n",
      " {'first_name': 'Huguta', 'prefecture': 'Tokyo'},\n",
      " {'first_name': 'Hune', 'prefecture': 'Chiba'},\n",
      " {'first_name': 'Hune', 'prefecture': 'Chiba'},\n",
      " {'first_name': 'Tarao', 'prefecture': 'Tokyo'},\n",
      " {'first_name': 'Katsuo', 'prefecture': 'Gunma'}]\n"
     ]
    }
   ],
   "source": [
    "# get a subset of the attributes\n",
    "resp = table.scan(\n",
    "    ProjectionExpression=\"first_name, prefecture\"\n",
    ")\n",
    "pprint(resp.get(\"Items\"))"
   ]
  },
  {
   "cell_type": "markdown",
   "id": "a8ea5005",
   "metadata": {},
   "source": [
    "## LEVEL 3: Backing up a Table"
   ]
  },
  {
   "cell_type": "code",
   "execution_count": 27,
   "id": "8355b358",
   "metadata": {},
   "outputs": [],
   "source": [
    "client = session.client(\"dynamodb\")"
   ]
  },
  {
   "cell_type": "code",
   "execution_count": 28,
   "id": "2b922510",
   "metadata": {},
   "outputs": [
    {
     "name": "stdout",
     "output_type": "stream",
     "text": [
      "arn:aws:dynamodb:ap-northeast-1:606887060834:table/Cov19VaccinationDb-Cov19VaccinationTable07030B40-13FJE38K7H2H0/backup/01626402955980-109ca39b\n"
     ]
    }
   ],
   "source": [
    "resp = client.create_backup(\n",
    "    TableName=table_name,\n",
    "    BackupName=table_name + \"-Backup\"\n",
    ")\n",
    "backup_arn = resp[\"BackupDetails\"][\"BackupArn\"]\n",
    "print(backup_arn)"
   ]
  },
  {
   "cell_type": "code",
   "execution_count": 29,
   "id": "faf06d98",
   "metadata": {},
   "outputs": [
    {
     "name": "stdout",
     "output_type": "stream",
     "text": [
      "{'BackupArn': 'arn:aws:dynamodb:ap-northeast-1:606887060834:table/Cov19VaccinationDb-Cov19VaccinationTable07030B40-13FJE38K7H2H0/backup/01626402955980-109ca39b',\n",
      " 'BackupCreationDateTime': datetime.datetime(2021, 7, 16, 11, 35, 55, 980000, tzinfo=tzlocal()),\n",
      " 'BackupName': 'Cov19VaccinationDb-Cov19VaccinationTable07030B40-13FJE38K7H2H0-Backup',\n",
      " 'BackupSizeBytes': 0,\n",
      " 'BackupStatus': 'AVAILABLE',\n",
      " 'BackupType': 'USER'}\n"
     ]
    }
   ],
   "source": [
    "resp = client.describe_backup(BackupArn=backup_arn)\n",
    "pprint(resp[\"BackupDescription\"][\"BackupDetails\"])"
   ]
  },
  {
   "cell_type": "code",
   "execution_count": 30,
   "id": "ba811268",
   "metadata": {},
   "outputs": [
    {
     "name": "stdout",
     "output_type": "stream",
     "text": [
      "Decimal('4')\n"
     ]
    }
   ],
   "source": [
    "# modify a table\n",
    "resp = table.update_item(\n",
    "    Key={\"username\": \"tarao_huguta\", \"dose\": 1},\n",
    "    UpdateExpression=\"SET age = :val1\",\n",
    "    ExpressionAttributeValues={\n",
    "        \":val1\": 4\n",
    "    }\n",
    ")\n",
    "\n",
    "# and confirm that the item was updated\n",
    "resp = table.get_item(\n",
    "    Key={\"username\": \"tarao_huguta\", \"dose\": 1},\n",
    ")\n",
    "pprint(resp[\"Item\"][\"age\"])"
   ]
  },
  {
   "cell_type": "code",
   "execution_count": 31,
   "id": "a5c512d3",
   "metadata": {},
   "outputs": [],
   "source": [
    "# restore from the backup\n",
    "restored_table_name = table_name + \"-restored\"\n",
    "resp = client.restore_table_from_backup(\n",
    "    TargetTableName=restored_table_name,\n",
    "    BackupArn=backup_arn,\n",
    ")"
   ]
  },
  {
   "cell_type": "code",
   "execution_count": 32,
   "id": "3ed506d9",
   "metadata": {},
   "outputs": [
    {
     "name": "stdout",
     "output_type": "stream",
     "text": [
      "'CREATING'\n"
     ]
    }
   ],
   "source": [
    "# Check the state of the restored table\n",
    "resp = client.describe_table(TableName=table_name + \"-restored\")\n",
    "pprint(resp[\"Table\"][\"TableStatus\"])"
   ]
  },
  {
   "cell_type": "code",
   "execution_count": 33,
   "id": "7da95cdb",
   "metadata": {},
   "outputs": [
    {
     "name": "stdout",
     "output_type": "stream",
     "text": [
      "'ACTIVE'\n"
     ]
    }
   ],
   "source": [
    "# Check the state of the restored table\n",
    "resp = client.describe_table(TableName=table_name + \"-restored\")\n",
    "pprint(resp[\"Table\"][\"TableStatus\"])"
   ]
  },
  {
   "cell_type": "code",
   "execution_count": 34,
   "id": "9c7fb3ef",
   "metadata": {},
   "outputs": [
    {
     "name": "stdout",
     "output_type": "stream",
     "text": [
      "Decimal('3')\n"
     ]
    }
   ],
   "source": [
    "restored_table = ddb.Table(restored_table_name)\n",
    "resp = restored_table.get_item(\n",
    "    Key={\"username\": \"tarao_huguta\", \"dose\": 1},\n",
    ")\n",
    "pprint(resp[\"Item\"][\"age\"])"
   ]
  },
  {
   "cell_type": "code",
   "execution_count": 35,
   "id": "2adea424",
   "metadata": {},
   "outputs": [],
   "source": [
    "# Delete restored table\n",
    "resp = restored_table.delete()"
   ]
  },
  {
   "cell_type": "code",
   "execution_count": 36,
   "id": "b7e8d15e",
   "metadata": {},
   "outputs": [],
   "source": [
    "# Delete backup\n",
    "resp = client.delete_backup(BackupArn=backup_arn)"
   ]
  },
  {
   "cell_type": "code",
   "execution_count": null,
   "id": "7e6a4ab6",
   "metadata": {},
   "outputs": [],
   "source": []
  }
 ],
 "metadata": {
  "kernelspec": {
   "display_name": "Python 3 (ipykernel)",
   "language": "python",
   "name": "python3"
  },
  "language_info": {
   "codemirror_mode": {
    "name": "ipython",
    "version": 3
   },
   "file_extension": ".py",
   "mimetype": "text/x-python",
   "name": "python",
   "nbconvert_exporter": "python",
   "pygments_lexer": "ipython3",
   "version": "3.8.10"
  }
 },
 "nbformat": 4,
 "nbformat_minor": 5
}
